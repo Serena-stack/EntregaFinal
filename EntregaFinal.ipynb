{
 "cells": [
  {
   "cell_type": "markdown",
   "id": "26518000-3eb8-43ee-a934-c4f84072c572",
   "metadata": {},
   "source": [
    "Trabajo Final: Mejora de la Inclusión Educativa a través de Prompts Personalizados\n",
    "Resumen\n",
    "El objetivo de este proyecto es desarrollar un sistema que permita a los docentes generar material educativo personalizado para mejorar la inclusión educativa. Usando el modelo de OpenAI GPT-4 y la API de DALL-E, se busca generar contenido textual y visual adaptado al nivel de comprensión de cada estudiante, independientemente de sus habilidades o ritmo de aprendizaje.\n",
    "\n",
    "Índice\n",
    "Introducción\n",
    "Objetivos\n",
    "Metodología\n",
    "Herramientas y Tecnologías\n",
    "Implementación\n",
    "Resultados\n",
    "Conclusiones\n",
    "Referencias\n",
    "1. Introducción\n",
    "La diversidad en las aulas plantea un desafío importante para los educadores, ya que los estudiantes tienen diferentes estilos de aprendizaje, capacidades y ritmos de desarrollo. La falta de material adaptado a las necesidades individuales puede llevar a la desmotivación y un bajo rendimiento académico. Este proyecto busca afrontar estos desafíos mediante la generación automática de contenido educativo personalizado.\n",
    "\n",
    "2. Objetivos\n",
    "Generar contenido educativo personalizado utilizando OpenAI GPT-4 para adaptar explicaciones y ejercicios a diferentes niveles de comprensión (básico, intermedio, avanzado).\n",
    "Crear materiales visuales educativos utilizando la API de DALL-E, para mejorar la comprensión de los estudiantes a través de imágenes complementarias.\n",
    "3. Metodología\n",
    "Recopilación de Datos: Ingresar temas educativos y seleccionar el nivel de comprensión de los estudiantes (básico, intermedio, avanzado).\n",
    "Generación de Texto: Utilizar GPT-4 para generar explicaciones y ejemplos adaptados.\n",
    "Generación de Imágenes: Utilizar DALL-E para crear imágenes que acompañen el contenido generado.\n",
    "4. Herramientas y Tecnologías\n",
    "Python: Lenguaje de programación utilizado.\n",
    "OpenAI GPT-4: API para la generación de texto.\n",
    "OpenAI DALL-E: API para la creación de imágenes basadas en descripciones de texto.\n",
    "5. Implementación\n",
    "5.1 Generación de Prompts de Texto\n",
    "El siguiente código muestra cómo generar un prompt educativo para diferentes niveles de comprensión.\n",
    "\n"
   ]
  },
  {
   "cell_type": "code",
   "execution_count": 5,
   "id": "3f8555b0-21a9-450d-b4f2-bc36570dc893",
   "metadata": {},
   "outputs": [
    {
     "ename": "ModuleNotFoundError",
     "evalue": "No module named 'openai'",
     "output_type": "error",
     "traceback": [
      "\u001b[1;31m---------------------------------------------------------------------------\u001b[0m",
      "\u001b[1;31mModuleNotFoundError\u001b[0m                       Traceback (most recent call last)",
      "Cell \u001b[1;32mIn[5], line 1\u001b[0m\n\u001b[1;32m----> 1\u001b[0m \u001b[38;5;28;01mimport\u001b[39;00m \u001b[38;5;21;01mopenai\u001b[39;00m\n\u001b[0;32m      3\u001b[0m \u001b[38;5;66;03m# Configurar la clave de la API de OpenAI\u001b[39;00m\n\u001b[0;32m      4\u001b[0m openai\u001b[38;5;241m.\u001b[39mapi_key \u001b[38;5;241m=\u001b[39m \u001b[38;5;124m\"\u001b[39m\u001b[38;5;124mtu_clave_api_aqui\u001b[39m\u001b[38;5;124m\"\u001b[39m\n",
      "\u001b[1;31mModuleNotFoundError\u001b[0m: No module named 'openai'"
     ]
    }
   ],
   "source": [
    "import openai\n",
    "\n",
    "# Configurar la clave de la API de OpenAI\n",
    "openai.api_key = \"tu_clave_api_aqui\"\n",
    "\n",
    "def generar_prompt(tema, nivel):\n",
    "    \"\"\"\n",
    "    Genera un prompt educativo según el tema y el nivel de comprensión del estudiante.\n",
    "    \"\"\"\n",
    "    if nivel == \"básico\":\n",
    "        prompt = f\"Explica el concepto de {tema} de manera sencilla y usando ejemplos cotidianos para estudiantes de nivel básico.\"\n",
    "    elif nivel == \"intermedio\":\n",
    "        prompt = f\"Genera un ejercicio sobre {tema} adecuado para estudiantes de nivel intermedio, con explicaciones claras.\"\n",
    "    elif nivel == \"avanzado\":\n",
    "        prompt = f\"Proporciona una explicación detallada sobre {tema}, incluyendo ejemplos complejos y relacionándolo con otros conceptos avanzados.\"\n",
    "    else:\n",
    "        prompt = f\"Genera una explicación general sobre {tema} sin especificar el nivel.\"\n",
    "    \n",
    "    return prompt\n",
    "\n",
    "tema = \"la fotosíntesis\"\n",
    "nivel = \"intermedio\"\n",
    "\n",
    "# Generar el prompt\n",
    "prompt_generado = generar_prompt(tema, nivel)\n",
    "print(prompt_generado)\n"
   ]
  },
  {
   "cell_type": "code",
   "execution_count": null,
   "id": "37635606-36b8-4007-af81-df01d9cd5f47",
   "metadata": {},
   "outputs": [],
   "source": [
    "def generar_imagen_educativa(descripcion):\n",
    "    \"\"\"\n",
    "    Genera una imagen educativa utilizando DALL·E basado en la descripción dada.\n",
    "    \"\"\"\n",
    "    try:\n",
    "        response = openai.Image.create(\n",
    "            prompt=descripcion,\n",
    "            n=1,\n",
    "            size=\"1024x1024\"\n",
    "        )\n",
    "        return response['data'][0]['url']\n",
    "    except Exception as e:\n",
    "        return f\"Error: {str(e)}\"\n",
    "\n",
    "# Descripción para generar una imagen educativa\n",
    "descripcion_imagen = \"Infografía sobre el proceso de fotosíntesis, mostrando cómo la luz solar se convierte en energía.\"\n",
    "\n",
    "# Obtener la URL de la imagen generada\n",
    "url_imagen = generar_imagen_educativa(descripcion_imagen)\n",
    "\n",
    "# Mostrar la URL de la imagen\n",
    "print(\"URL de la imagen generada:\", url_imagen)\n"
   ]
  },
  {
   "cell_type": "code",
   "execution_count": null,
   "id": "df144bb0-ca5d-4d59-be64-0bc532332242",
   "metadata": {},
   "outputs": [],
   "source": [
    "print(\"Contenido Generado:\")\n",
    "print(prompt_generado)\n",
    "print(\"\\nURL de la imagen generada:\")\n",
    "print(url_imagen)\n"
   ]
  },
  {
   "cell_type": "markdown",
   "id": "c1922d4b-0471-4e14-9cc9-98a8afd73602",
   "metadata": {},
   "source": [
    "Conclusiones\n",
    "Este enfoque de personalización de contenido educativo mediante la generación automática de prompts y la creación de materiales visuales mediante IA tiene el potencial de transformar el proceso de enseñanza, permitiendo que los educadores puedan atender las necesidades específicas de cada estudiante. A través de este proyecto, se busca promover una educación más inclusiva y adaptada a la diversidad de los estudiantes."
   ]
  },
  {
   "cell_type": "code",
   "execution_count": null,
   "id": "c44e42b5-0354-4c08-b7bb-31656b13c9d6",
   "metadata": {},
   "outputs": [],
   "source": []
  }
 ],
 "metadata": {
  "kernelspec": {
   "display_name": "Python 3 (ipykernel)",
   "language": "python",
   "name": "python3"
  },
  "language_info": {
   "codemirror_mode": {
    "name": "ipython",
    "version": 3
   },
   "file_extension": ".py",
   "mimetype": "text/x-python",
   "name": "python",
   "nbconvert_exporter": "python",
   "pygments_lexer": "ipython3",
   "version": "3.13.0"
  }
 },
 "nbformat": 4,
 "nbformat_minor": 5
}
